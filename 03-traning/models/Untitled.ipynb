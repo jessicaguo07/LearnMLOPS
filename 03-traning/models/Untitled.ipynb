{
 "cells": [
  {
   "cell_type": "code",
   "execution_count": null,
   "id": "dab8f5f4",
   "metadata": {},
   "outputs": [],
   "source": [
    "from mlflow import MlflowClient\n",
    "\n",
    "client = MlflowClient()\n",
    "\n",
    "# Assign alias to a model version\n",
    "client.set_registered_model_alias(\n",
    "    name=\"RandomForestRegressor\",\n",
    "    alias=\"production\",  # Your custom alias\n",
    "    version=3  # Version number\n",
    ")"
   ]
  },
  {
   "cell_type": "code",
   "execution_count": null,
   "id": "e3b0f882",
   "metadata": {},
   "outputs": [],
   "source": []
  },
  {
   "cell_type": "code",
   "execution_count": 12,
   "id": "b76eb3ea",
   "metadata": {},
   "outputs": [],
   "source": [
    "import mlflow\n",
    "from mlflow.tracking import MlflowClient\n",
    "\n",
    "MLFLOW_TRACKING_URI = \"sqlite:///mlflow.db\""
   ]
  },
  {
   "cell_type": "code",
   "execution_count": 13,
   "id": "dc260da0",
   "metadata": {
    "scrolled": true
   },
   "outputs": [
    {
     "data": {
      "text/plain": [
       "[<Experiment: artifact_location='/workspaces/LearnMLOPS/03-traning/models/mlruns/6', creation_time=1749674191155, experiment_id='6', last_update_time=1749674191155, lifecycle_stage='active', name='my-cool-experiment', tags={}>,\n",
       " <Experiment: artifact_location='/workspaces/LearnMLOPS/03-traning/models/mlruns/5', creation_time=1749666481570, experiment_id='5', last_update_time=1749666481570, lifecycle_stage='active', name='new-experiment', tags={}>,\n",
       " <Experiment: artifact_location='/workspaces/LearnMLOPS/03-traning/models/mlruns/3', creation_time=1749581168605, experiment_id='3', last_update_time=1749581168605, lifecycle_stage='active', name='my-experiment', tags={}>,\n",
       " <Experiment: artifact_location='/workspaces/LearnMLOPS/03-traning/models/mlruns/2', creation_time=1749573231525, experiment_id='2', last_update_time=1749573231525, lifecycle_stage='active', name='nyv-taxi-experiment', tags={}>,\n",
       " <Experiment: artifact_location='/workspaces/LearnMLOPS/03-traning/models/mlruns/1', creation_time=1749519019185, experiment_id='1', last_update_time=1749519019185, lifecycle_stage='active', name='my-brand-new-experiment', tags={}>,\n",
       " <Experiment: artifact_location='/workspaces/LearnMLOPS/03-traning/models/mlruns/0', creation_time=1749519019179, experiment_id='0', last_update_time=1749519019179, lifecycle_stage='active', name='Default', tags={}>]"
      ]
     },
     "execution_count": 13,
     "metadata": {},
     "output_type": "execute_result"
    }
   ],
   "source": [
    "client = MlflowClient(tracking_uri=MLFLOW_TRACKING_URI)\n",
    "mlflow.set_tracking_uri(\"sqlite:///mlflow.db\")\n",
    "current_uri = mlflow.get_tracking_uri()\n",
    "print(\"Current Tracking URI:\", current_uri)\n",
    "client.search_experiments()"
   ]
  },
  {
   "cell_type": "code",
   "execution_count": 3,
   "id": "2cdc3701",
   "metadata": {},
   "outputs": [],
   "source": [
    "from mlflow.entities import ViewType\n",
    "\n",
    "runs = client.search_runs(\n",
    "    experiment_ids='5',\n",
    "    filter_string=\"metrics.rmse < 7\",\n",
    "    run_view_type=ViewType.ACTIVE_ONLY,\n",
    "    max_results=5,\n",
    "    order_by=[\"metrics.rmse ASC\"]\n",
    ")"
   ]
  },
  {
   "cell_type": "code",
   "execution_count": 4,
   "id": "50ee58cd",
   "metadata": {},
   "outputs": [
    {
     "name": "stdout",
     "output_type": "stream",
     "text": [
      "run id: 8d6a9cf2353c49b6a507c4707c678cdd, rmse: 6.4399\n",
      "run id: f5450207657b49a49bbfc1e7fb0ecf4e, rmse: 6.5890\n",
      "run id: 15d871eeab8c44049caffaaba807dee0, rmse: 6.9190\n"
     ]
    }
   ],
   "source": [
    "for run in runs:\n",
    "    print(f\"run id: {run.info.run_id}, rmse: {run.data.metrics['rmse']:.4f}\")"
   ]
  },
  {
   "cell_type": "code",
   "execution_count": 18,
   "id": "01c9bfa7",
   "metadata": {},
   "outputs": [
    {
     "name": "stdout",
     "output_type": "stream",
     "text": [
      "run id: 0b5765ea007e4f5280dcc0d3c3f291b3, rmse: 6.1753\n",
      "run id: eb3a07512d7e4198a6e4015d8b26d58d, rmse: 6.1821\n",
      "run id: 8e1b1e600b754f36b400aac6289c5c77, rmse: 6.1885\n",
      "run id: 98512e418f704e768cca972070ee70a7, rmse: 6.1921\n",
      "run id: 06e24b4625c34f75b272a4abab7e57ed, rmse: 6.2046\n"
     ]
    }
   ],
   "source": [
    "from mlflow.entities import ViewType\n",
    "\n",
    "# Pass experiment_ids as a LIST\n",
    "runs = client.search_runs(\n",
    "    experiment_ids=['3'],  # Note: Now a list with '1' as element\n",
    "    filter_string=\"metrics.rmse < 7\",\n",
    "    run_view_type=ViewType.ACTIVE_ONLY,\n",
    "    max_results=5,\n",
    "    order_by=[\"metrics.rmse ASC\"]\n",
    ")\n",
    "\n",
    "if not runs:\n",
    "    print(\"No runs found matching criteria!\")\n",
    "else:\n",
    "    for run in runs:\n",
    "        print(f\"run id: {run.info.run_id}, rmse: {run.data.metrics['rmse']:.4f}\")"
   ]
  },
  {
   "cell_type": "code",
   "execution_count": 17,
   "id": "12687d5f",
   "metadata": {},
   "outputs": [
    {
     "name": "stdout",
     "output_type": "stream",
     "text": [
      "Latest version: 2\n"
     ]
    },
    {
     "name": "stderr",
     "output_type": "stream",
     "text": [
      "/tmp/ipykernel_5416/1355159910.py:6: FutureWarning: ``mlflow.tracking.client.MlflowClient.get_latest_versions`` is deprecated since 2.9.0. Model registry stages will be removed in a future major release. To learn more about the deprecation of model registry stages, see our migration guide here: https://mlflow.org/docs/latest/model-registry.html#migrating-from-stages\n",
      "  latest_version = client.get_latest_versions(model_name, stages=[\"None\"])[0].version\n"
     ]
    }
   ],
   "source": [
    "# Get Registered Model\n",
    "client = MlflowClient()\n",
    "# Get the latest version\n",
    "model_name = \"nyc-taxi-regressor\"\n",
    "client.get_registered_model(model_name)\n",
    "latest_version = client.get_latest_versions(model_name, stages=[\"None\"])[0].version\n",
    "\n",
    "print(f\"Latest version: {latest_version}\")"
   ]
  },
  {
   "cell_type": "code",
   "execution_count": 39,
   "id": "ecdcdf47",
   "metadata": {},
   "outputs": [
    {
     "name": "stdout",
     "output_type": "stream",
     "text": [
      "2\n",
      "Version: 2\n",
      "Run ID: 25ca36fedb684e6d91c75997b9ffea24\n",
      "Current Stage: None\n"
     ]
    },
    {
     "data": {
      "application/vnd.jupyter.widget-view+json": {
       "model_id": "d2a8cdbf935c4a23ab289b1eaa6dfee3",
       "version_major": 2,
       "version_minor": 0
      },
      "text/plain": [
       "Downloading artifacts:   0%|          | 0/1 [00:00<?, ?it/s]"
      ]
     },
     "metadata": {},
     "output_type": "display_data"
    },
    {
     "data": {
      "text/plain": [
       "'/workspaces/LearnMLOPS/03-traning/models/preprocessor'"
      ]
     },
     "execution_count": 39,
     "metadata": {},
     "output_type": "execute_result"
    }
   ],
   "source": [
    "client.set_registered_model_alias(\n",
    "    name=model_name,\n",
    "    alias=\"champion\",  # Like \"Production\" but more flexible\n",
    "    version=2\n",
    ")\n",
    "\n",
    "# Get the version with the alias\n",
    "champion_version = client.get_model_version_by_alias(model_name, \"champion\")\n",
    "print(model.version) \n",
    "# 3. Extract metadata\n",
    "print(f\"Version: {champion_version.version}\")\n",
    "print(f\"Run ID: {champion_version.run_id}\")\n",
    "print(f\"Current Stage: {champion_version.current_stage}\")\n",
    "\n",
    "# 4. Download artifacts if needed\n",
    "client.download_artifacts(\n",
    "    run_id=champion_version.run_id,\n",
    "    path='preprocessor',\n",
    "    dst_path=\".\"\n",
    ")"
   ]
  },
  {
   "cell_type": "markdown",
   "id": "3a72e263",
   "metadata": {},
   "source": [
    "## Comparing versions and selecting model"
   ]
  },
  {
   "cell_type": "code",
   "execution_count": 49,
   "id": "47f43a5f",
   "metadata": {},
   "outputs": [],
   "source": [
    "from sklearn.metrics import mean_squared_error\n",
    "import pandas as pd\n",
    "\n",
    "\n",
    "def read_dataframe(filename):\n",
    "    df = pd.read_parquet(filename)\n",
    "\n",
    "    df.lpep_dropoff_datetime = pd.to_datetime(df.lpep_dropoff_datetime)\n",
    "    df.lpep_pickup_datetime = pd.to_datetime(df.lpep_pickup_datetime)\n",
    "\n",
    "    df['duration'] = df.lpep_dropoff_datetime - df.lpep_pickup_datetime\n",
    "    df.duration = df.duration.apply(lambda td: td.total_seconds() / 60)\n",
    "\n",
    "    df = df[(df.duration >= 1) & (df.duration <= 60)]\n",
    "\n",
    "    categorical = ['PULocationID', 'DOLocationID']\n",
    "    df[categorical] = df[categorical].astype(str)\n",
    "    \n",
    "    return df\n",
    "\n",
    "\n",
    "def preprocess(df, dv):\n",
    "    df['PU_DO'] = df['PULocationID'] + '_' + df['DOLocationID']\n",
    "    categorical = ['PU_DO']\n",
    "    numerical = ['trip_distance']\n",
    "    train_dicts = df[categorical + numerical].to_dict(orient='records')\n",
    "    return dv.transform(train_dicts)\n",
    "\n",
    "\n",
    "# def test_model(name, stage, X_test, y_test):\n",
    "#     model = mlflow.pyfunc.load_model(f\"models:/{name}/{stage}\")\n",
    "#     y_pred = model.predict(X_test)\n",
    "#     return {\"rmse\": mean_squared_error(y_test, y_pred, squared=False)}\n",
    "def test_model(name: str, alias: str, X_test: pd.DataFrame, y_test: pd.Series):\n",
    "    \"\"\"Test a model by its alias (replaces stage)\"\"\"\n",
    "    model_uri = f\"models:/{name}@{alias}\"  # Note @ symbol for aliases\n",
    "    model = mlflow.pyfunc.load_model(model_uri)\n",
    "    \n",
    "    preds = model.predict(X_test)\n",
    "    return {\"rmse\": mean_squared_error(y_test, preds, squared=False)}\n"
   ]
  },
  {
   "cell_type": "code",
   "execution_count": 30,
   "id": "bdbeb62e",
   "metadata": {},
   "outputs": [
    {
     "name": "stdout",
     "output_type": "stream",
     "text": [
      "Current directory: /workspaces/LearnMLOPS/03-traning/models\n"
     ]
    }
   ],
   "source": [
    "import os\n",
    "os.getcwd()\n",
    "root_file = \"/workspaces/LearnMLOPS/03-traning/models/green_tripdata_2021-03.parquet\""
   ]
  },
  {
   "cell_type": "code",
   "execution_count": 35,
   "id": "b8097c51",
   "metadata": {},
   "outputs": [],
   "source": [
    "df = read_dataframe('/workspaces/LearnMLOPS/03-traning/models/green_tripdata_2021-03.parquet')"
   ]
  },
  {
   "cell_type": "code",
   "execution_count": null,
   "id": "806c84d2",
   "metadata": {},
   "outputs": [],
   "source": [
    "model_versions = client.get_latest_versions(model_name)\n",
    "\n",
    "for version in model_versions:\n",
    "    print(f\"Version {version.version} - Run ID: {version.run_id}\")\n",
    "    run_id = version.run_id"
   ]
  },
  {
   "cell_type": "code",
   "execution_count": 40,
   "id": "a71d85c4",
   "metadata": {},
   "outputs": [],
   "source": [
    "# Dowload the model\n",
    "import pickle\n",
    "\n",
    "with open(\"preprocessor/preprocessor.b\", \"rb\") as f_in:\n",
    "    dv = pickle.load(f_in)"
   ]
  },
  {
   "cell_type": "code",
   "execution_count": 41,
   "id": "414f5186",
   "metadata": {},
   "outputs": [],
   "source": [
    "X_test = preprocess(df, dv)\n",
    "target = \"duration\"\n",
    "y_test = df[target].values"
   ]
  },
  {
   "cell_type": "code",
   "execution_count": 52,
   "id": "1e2b1f54",
   "metadata": {},
   "outputs": [],
   "source": [
    "client.set_registered_model_alias(model_name, \"challenger\", version=1)"
   ]
  },
  {
   "cell_type": "code",
   "execution_count": 53,
   "id": "995949e6",
   "metadata": {},
   "outputs": [
    {
     "name": "stdout",
     "output_type": "stream",
     "text": [
      "CPU times: user 1.9 s, sys: 49.6 ms, total: 1.95 s\n",
      "Wall time: 1.28 s\n"
     ]
    },
    {
     "data": {
      "text/plain": [
       "{'rmse': 6.806257685294212}"
      ]
     },
     "execution_count": 53,
     "metadata": {},
     "output_type": "execute_result"
    }
   ],
   "source": [
    "%time test_model(name=model_name, alias=\"challenger\", X_test=X_test, y_test=y_test)"
   ]
  },
  {
   "cell_type": "code",
   "execution_count": 54,
   "id": "fe9091bd",
   "metadata": {},
   "outputs": [
    {
     "name": "stdout",
     "output_type": "stream",
     "text": [
      "CPU times: user 48.2 ms, sys: 3.87 ms, total: 52.1 ms\n",
      "Wall time: 57 ms\n"
     ]
    },
    {
     "data": {
      "text/plain": [
       "{'rmse': 930.2196670431273}"
      ]
     },
     "execution_count": 54,
     "metadata": {},
     "output_type": "execute_result"
    }
   ],
   "source": [
    "%time test_model(name=model_name, alias=\"champion\", X_test=X_test, y_test=y_test)\n"
   ]
  },
  {
   "cell_type": "code",
   "execution_count": null,
   "id": "7205b1cc",
   "metadata": {},
   "outputs": [],
   "source": []
  }
 ],
 "metadata": {
  "kernelspec": {
   "display_name": "Python 3 (ipykernel)",
   "language": "python",
   "name": "python3"
  },
  "language_info": {
   "codemirror_mode": {
    "name": "ipython",
    "version": 3
   },
   "file_extension": ".py",
   "mimetype": "text/x-python",
   "name": "python",
   "nbconvert_exporter": "python",
   "pygments_lexer": "ipython3",
   "version": "3.9.12"
  }
 },
 "nbformat": 4,
 "nbformat_minor": 5
}
